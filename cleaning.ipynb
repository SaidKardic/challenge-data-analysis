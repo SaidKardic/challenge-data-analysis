{
 "cells": [
  {
   "cell_type": "code",
   "execution_count": 13,
   "metadata": {},
   "outputs": [],
   "source": [
    "import pandas as pd\n",
    "import numpy as np\n",
    "import re"
   ]
  },
  {
   "cell_type": "code",
   "execution_count": 14,
   "metadata": {},
   "outputs": [
    {
     "name": "stderr",
     "output_type": "stream",
     "text": [
      "/var/folders/9g/mm9pdxg52dn6rg0rtfk14syc0000gn/T/ipykernel_36263/889337693.py:1: DtypeWarning: Columns (102,116,122,123,124,125,126,128,129) have mixed types. Specify dtype option on import or set low_memory=False.\n",
      "  df=pd.read_csv('new_data.csv')\n"
     ]
    }
   ],
   "source": [
    "df=pd.read_csv('new_data.csv')"
   ]
  },
  {
   "cell_type": "code",
   "execution_count": 15,
   "metadata": {},
   "outputs": [
    {
     "data": {
      "text/plain": [
       "Index(['Unnamed: 0', 'Available as of', 'Property name', 'Construction year',\n",
       "       'Floor', 'Number of floors', 'Building condition',\n",
       "       'Number of frontages', 'Covered parking spaces',\n",
       "       'Outdoor parking spaces',\n",
       "       ...\n",
       "       'Percentage rented', 'Age of annuitant', 'EPC description',\n",
       "       'Venue of the sale', 'Single session', 'Terms of visit',\n",
       "       'Starting price', '0', 'Maximum duration of annuity',\n",
       "       'Date of the sale'],\n",
       "      dtype='object', length=130)"
      ]
     },
     "execution_count": 15,
     "metadata": {},
     "output_type": "execute_result"
    }
   ],
   "source": [
    "df.columns"
   ]
  },
  {
   "cell_type": "code",
   "execution_count": 16,
   "metadata": {},
   "outputs": [
    {
     "data": {
      "text/plain": [
       "(19291, 130)"
      ]
     },
     "execution_count": 16,
     "metadata": {},
     "output_type": "execute_result"
    }
   ],
   "source": [
    "df.shape"
   ]
  },
  {
   "cell_type": "code",
   "execution_count": 17,
   "metadata": {},
   "outputs": [],
   "source": [
    "filtered_columns=[\"Unnamed: 0\", \"Zip-code\", \"City\", \"Type of Property\", \n",
    "                  \"Subtype of Property\", \"Price\", \"Construction year\", \"Bedrooms\",\"Living area\",\n",
    "                  \"Kitchen type\", \"Furnished\", \"How many fireplaces?\", \"Terrace\",\"Terrace surface\",\n",
    "                  \"Garden\",\"Garden surface\",\"Surface of the plot\",\"Number of frontages\",\n",
    "                  \"Swimming pool\", \"Building condition\", \"Elevator\", \"Basement\", \"Cadastral income\",\n",
    "                  \"Primary energy consumption\",\"CO₂ emission\", \"Energy class\", \"Heating type\"]\n",
    "    \n",
    "df = df[filtered_columns]"
   ]
  },
  {
   "cell_type": "code",
   "execution_count": 18,
   "metadata": {},
   "outputs": [],
   "source": [
    "df=df.drop_duplicates()"
   ]
  },
  {
   "cell_type": "code",
   "execution_count": 19,
   "metadata": {},
   "outputs": [],
   "source": [
    "df=df.rename(columns = {'Unnamed: 0':'Property ID', 'Zip-code':'Zip code'})"
   ]
  },
  {
   "cell_type": "code",
   "execution_count": 20,
   "metadata": {},
   "outputs": [],
   "source": [
    "df=df.rename(columns = {'Price':'Price (€)', 'Living area':'Living area (m²)', 'Terrace surface':'Terrace surface (m²)', \n",
    "                        'Garden surface':'Garden surface (m²)', 'Surface of the plot': 'Surface of the plot (m²)', 'Cadastral income':'Cadastral income (€)',\n",
    "                        'Primary energy consumption':'Primary energy consumption (kWh/m²)', 'CO₂ emission':'CO₂ emission (kg CO₂/m²)',\n",
    "                          })"
   ]
  },
  {
   "cell_type": "code",
   "execution_count": 21,
   "metadata": {},
   "outputs": [],
   "source": [
    "df=df.drop_duplicates()"
   ]
  },
  {
   "cell_type": "code",
   "execution_count": 22,
   "metadata": {},
   "outputs": [],
   "source": [
    "df['How many fireplaces?']=df['How many fireplaces?'].replace(np.nan,0,regex=True)\n",
    "df['How many fireplaces?']=df['How many fireplaces?'].replace('Yes',1,regex=True)\n",
    "df['How many fireplaces?']=df['How many fireplaces?'].replace('No',0,regex=True)\n",
    "df['Swimming pool']=df['Swimming pool'].replace(np.nan,0,regex=True)\n",
    "df['Swimming pool']=df['Swimming pool'].replace('Yes',1,regex=True)\n",
    "df['Swimming pool']=df['Swimming pool'].replace('No',0,regex=True)\n",
    "df['Elevator']=df['Elevator'].replace(np.nan,0,regex=True)\n",
    "df['Elevator']=df['Elevator'].replace('Yes',1,regex=True)\n",
    "df['Elevator']=df['Elevator'].replace('No',0,regex=True)\n",
    "df['Basement']=df['Basement'].replace(np.nan,0,regex=True)\n",
    "df['Basement']=df['Basement'].replace('Yes',1,regex=True)\n",
    "df['Basement']=df['Basement'].replace('No',0,regex=True)\n",
    "df['Furnished']=df['Furnished'].replace(np.nan,0,regex=True)\n",
    "df['Furnished']=df['Furnished'].replace('Yes',1,regex=True)\n",
    "df['Furnished']=df['Furnished'].replace('No',0,regex=True)\n"
   ]
  },
  {
   "cell_type": "code",
   "execution_count": 25,
   "metadata": {},
   "outputs": [],
   "source": [
    "df=df.dropna(subset=['Price (€)', 'Bedrooms', 'Living area (m²)', 'Subtype of Property'])\n"
   ]
  },
  {
   "cell_type": "code",
   "execution_count": 29,
   "metadata": {},
   "outputs": [],
   "source": [
    "df['Price (€)'] = df['Price (€)'].str.split(' ').str[-2]\n",
    "df['Price (€)'] = pd.to_numeric(df['Price (€)'])\n",
    "df['Living area (m²)'] = df['Living area (m²)'].str.split(' ').str[0]\n",
    "df['Garden surface (m²)'] = df['Garden surface (m²)'].str.split(' ').str[0]\n",
    "df['Terrace surface (m²)'] = df['Terrace surface (m²)'].str.split(' ').str[0]\n",
    "df['Surface of the plot (m²)'] = df['Surface of the plot (m²)'].str.split(' ').str[0]\n",
    "df['Cadastral income (€)'] = df['Cadastral income (€)'].str.split(' ').str[-2]\n",
    "df['Primary energy consumption (kWh/m²)'] = df['Primary energy consumption (kWh/m²)'].str.split(' ').str[0]\n",
    "df['CO₂ emission (kg CO₂/m²)'] = df['CO₂ emission (kg CO₂/m²)'].str.split(' ').str[0]"
   ]
  },
  {
   "cell_type": "code",
   "execution_count": 30,
   "metadata": {},
   "outputs": [],
   "source": [
    "filter_G = df[\"Garden surface (m²)\"].isnull()\n",
    "df.loc[~filter_G,'Garden'] = 'Yes'\n",
    "df.loc[df['Garden'] == 'Yes', 'Garden'] = 1\n",
    "df.loc[df[\"Garden\"].isnull(), 'Garden'] = 0\n",
    "df.loc[df[\"Garden surface (m²)\"].isnull(), 'Garden surface (m²)'] = 0"
   ]
  },
  {
   "cell_type": "code",
   "execution_count": 31,
   "metadata": {},
   "outputs": [],
   "source": [
    "filter_G = df[\"Terrace surface (m²)\"].isnull()\n",
    "df.loc[~filter_G,'Terrace'] = 'Yes'\n",
    "df.loc[df['Terrace'] == 'Yes', 'Terrace'] = 1\n",
    "df.loc[df[\"Terrace\"].isnull(), 'Terrace'] = 0\n",
    "df.loc[df[\"Terrace surface (m²)\"].isnull(), 'Terrace surface (m²)'] = 0"
   ]
  },
  {
   "cell_type": "code",
   "execution_count": 32,
   "metadata": {},
   "outputs": [],
   "source": [
    "df['Primary energy consumption (kWh/m²)']=df['Primary energy consumption (kWh/m²)'].replace('Not',np.nan)\n",
    "df['CO₂ emission (kg CO₂/m²)']=df['CO₂ emission (kg CO₂/m²)'].replace('Not',np.nan)\n",
    "df['Energy class']=df['Energy class'].replace('Not',np.nan)"
   ]
  },
  {
   "cell_type": "code",
   "execution_count": 33,
   "metadata": {},
   "outputs": [],
   "source": [
    "df = df.astype({\"Living area (m²)\":\"float\", \"Terrace\":\"float\", \"Garden\":\"float\",\n",
    "                \"Terrace surface (m²)\":\"float\",\n",
    "                \"Garden surface (m²)\":\"float\",\"Surface of the plot (m²)\":\"float\",\n",
    "                \"Primary energy consumption (kWh/m²)\":\"float\", \"Cadastral income (€)\":\"float\",\n",
    "                \"CO₂ emission (kg CO₂/m²)\":\"float\"})"
   ]
  },
  {
   "cell_type": "code",
   "execution_count": 34,
   "metadata": {},
   "outputs": [],
   "source": [
    "df['Energy class']=df['Energy class'].replace('Not specified',np.nan)"
   ]
  },
  {
   "cell_type": "code",
   "execution_count": 35,
   "metadata": {},
   "outputs": [],
   "source": [
    "kitchen_type_scale={'USA hyper equipped':3, 'USA installed':2, 'USA semi equipped':1, 'USA uninstalled':0,\n",
    " 'Hyper equipped':3, 'Installed':2, 'Semi equipped':1, 'Not installed':0}\n",
    "\n",
    "df['Kitchen type scale'] = df['Kitchen type'].map(kitchen_type_scale)"
   ]
  },
  {
   "cell_type": "code",
   "execution_count": 36,
   "metadata": {},
   "outputs": [],
   "source": [
    "building_condition_scale={'As new':6,'Just renovated':5, 'Good':4, 'To renovate':2,\n",
    " 'To restore':1, 'To be done up':3}\n",
    "\n",
    "df['Building condition scale'] = df['Building condition'].map(building_condition_scale)"
   ]
  },
  {
   "cell_type": "code",
   "execution_count": 37,
   "metadata": {},
   "outputs": [],
   "source": [
    "df = df.applymap(lambda x: x.strip() if isinstance(x, str) else x)"
   ]
  },
  {
   "cell_type": "code",
   "execution_count": 38,
   "metadata": {},
   "outputs": [],
   "source": [
    "df.to_csv(\"updated_cleaned_data.csv\", index=False)"
   ]
  },
  {
   "cell_type": "code",
   "execution_count": 43,
   "metadata": {},
   "outputs": [
    {
     "data": {
      "text/plain": [
       "(15341, 29)"
      ]
     },
     "execution_count": 43,
     "metadata": {},
     "output_type": "execute_result"
    }
   ],
   "source": [
    "df.shape"
   ]
  }
 ],
 "metadata": {
  "kernelspec": {
   "display_name": "venv",
   "language": "python",
   "name": "python3"
  },
  "language_info": {
   "codemirror_mode": {
    "name": "ipython",
    "version": 3
   },
   "file_extension": ".py",
   "mimetype": "text/x-python",
   "name": "python",
   "nbconvert_exporter": "python",
   "pygments_lexer": "ipython3",
   "version": "3.11.3"
  },
  "orig_nbformat": 4
 },
 "nbformat": 4,
 "nbformat_minor": 2
}
