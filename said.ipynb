{
 "cells": [
  {
   "cell_type": "code",
   "execution_count": 409,
   "metadata": {},
   "outputs": [],
   "source": [
    "import pandas as pd\n",
    "import numpy as np\n",
    "import re"
   ]
  },
  {
   "cell_type": "code",
   "execution_count": 410,
   "metadata": {},
   "outputs": [
    {
     "name": "stderr",
     "output_type": "stream",
     "text": [
      "/var/folders/9g/mm9pdxg52dn6rg0rtfk14syc0000gn/T/ipykernel_22943/625188700.py:1: DtypeWarning: Columns (114,118,125) have mixed types. Specify dtype option on import or set low_memory=False.\n",
      "  df=pd.read_csv('data.csv')\n"
     ]
    }
   ],
   "source": [
    "df=pd.read_csv('data.csv')"
   ]
  },
  {
   "cell_type": "code",
   "execution_count": 411,
   "metadata": {},
   "outputs": [
    {
     "data": {
      "text/plain": [
       "Index(['Unnamed: 0', 'Available as of', 'Available date', 'Construction year',\n",
       "       'Building condition', 'Street frontage width', 'Number of frontages',\n",
       "       'Covered parking spaces', 'Outdoor parking spaces', 'Surroundings type',\n",
       "       ...\n",
       "       'Value of the property', 'Monthly annuity', 'Age of annuitants',\n",
       "       'Maximum duration of annuity', 'Venue of the sale', 'Single session',\n",
       "       'Terms of visit', 'Starting price', '0', 'Date of the sale'],\n",
       "      dtype='object', length=126)"
      ]
     },
     "execution_count": 411,
     "metadata": {},
     "output_type": "execute_result"
    }
   ],
   "source": [
    "df.columns"
   ]
  },
  {
   "cell_type": "code",
   "execution_count": 412,
   "metadata": {},
   "outputs": [],
   "source": [
    "filtered_columns=[\"Unnamed: 0\",\"Neighbourhood or locality\",\"Type of building\",'Construction year',\n",
    "                  \"Price\",\"Bedrooms\",\"Living area\",\"Kitchen type\",\n",
    "    \"Furnished\",\"How many fireplaces?\",\"Terrace\",\"Terrace surface\",\n",
    "    \"Garden\",\"Garden surface\",\"Surface of the plot\",\"Number of frontages\",\n",
    "    \"Swimming pool\",'Elevator', 'Basement', \"Building condition\", \n",
    "    'Cadastral income',\"Primary energy consumption\",\"CO₂ emission\", 'Energy class', 'Heating type']\n",
    "df = df[filtered_columns]"
   ]
  },
  {
   "cell_type": "code",
   "execution_count": 413,
   "metadata": {},
   "outputs": [],
   "source": [
    "df=df.drop_duplicates()"
   ]
  },
  {
   "cell_type": "code",
   "execution_count": 414,
   "metadata": {},
   "outputs": [],
   "source": [
    "df=df.rename(columns = {'Unnamed: 0':'Property ID'})"
   ]
  },
  {
   "cell_type": "code",
   "execution_count": 415,
   "metadata": {},
   "outputs": [],
   "source": [
    "df.to_csv(\"data_26_column.csv\", index=False)"
   ]
  },
  {
   "cell_type": "code",
   "execution_count": 416,
   "metadata": {},
   "outputs": [],
   "source": [
    "df=pd.read_csv('data_26_column.csv')"
   ]
  },
  {
   "cell_type": "code",
   "execution_count": 417,
   "metadata": {},
   "outputs": [],
   "source": [
    "df=df.rename(columns = {'Price':'Price (€)', 'Living area':'Living area (m²)', 'Terrace surface':'Terrace surface (m²)', \n",
    "                        'Garden surface':'Garden surface (m²)', 'Surface of the plot': 'Surface of the plot (m²)', 'Cadastral income':'Cadastral income (€)',\n",
    "                        'Primary energy consumption':'Primary energy consumption (kWh/m²)', 'CO₂ emission':'CO₂ emission (kg CO₂/m²)',\n",
    "                          })"
   ]
  },
  {
   "cell_type": "code",
   "execution_count": 418,
   "metadata": {},
   "outputs": [],
   "source": [
    "df=df.drop_duplicates()"
   ]
  },
  {
   "cell_type": "code",
   "execution_count": 419,
   "metadata": {},
   "outputs": [],
   "source": [
    "df['How many fireplaces?']=df['How many fireplaces?'].replace(np.nan,0,regex=True)\n",
    "df['How many fireplaces?']=df['How many fireplaces?'].replace('Yes',1,regex=True)\n",
    "df['How many fireplaces?']=df['How many fireplaces?'].replace('No',0,regex=True)\n",
    "df['Swimming pool']=df['Swimming pool'].replace(np.nan,0,regex=True)\n",
    "df['Swimming pool']=df['Swimming pool'].replace('Yes',1,regex=True)\n",
    "df['Swimming pool']=df['Swimming pool'].replace('No',0,regex=True)\n",
    "df['Elevator']=df['Elevator'].replace(np.nan,0,regex=True)\n",
    "df['Elevator']=df['Elevator'].replace('Yes',1,regex=True)\n",
    "df['Elevator']=df['Elevator'].replace('No',0,regex=True)\n",
    "df['Basement']=df['Basement'].replace(np.nan,0,regex=True)\n",
    "df['Basement']=df['Basement'].replace('Yes',1,regex=True)\n",
    "df['Basement']=df['Basement'].replace('No',0,regex=True)\n",
    "df['Furnished']=df['Furnished'].replace(np.nan,0,regex=True)\n",
    "df['Furnished']=df['Furnished'].replace('Yes',1,regex=True)\n",
    "df['Furnished']=df['Furnished'].replace('No',0,regex=True)\n"
   ]
  },
  {
   "cell_type": "code",
   "execution_count": 420,
   "metadata": {},
   "outputs": [],
   "source": [
    "df=df.dropna(subset=['Price (€)'])\n"
   ]
  },
  {
   "cell_type": "code",
   "execution_count": 421,
   "metadata": {},
   "outputs": [],
   "source": [
    "df['Price (€)'] = df['Price (€)'].str.split(' ').str[-2]\n",
    "df['Price (€)'] = pd.to_numeric(df['Price (€)'])\n",
    "df['Living area (m²)'] = df['Living area (m²)'].str.split(' ').str[0]\n",
    "# df['Living area (m²)'] = pd.to_numeric(df['Living area (m²)'])\n",
    "df['Garden surface (m²)'] = df['Garden surface (m²)'].str.split(' ').str[0]\n",
    "# df['Garden surface (m²)'] = pd.to_numeric(df['Garden surface (m²)'])\n",
    "df['Terrace surface (m²)'] = df['Terrace surface (m²)'].str.split(' ').str[0]\n",
    "# df['Terrace surface (m²)'] = pd.to_numeric(df['Terrace surface (m²)'])\n",
    "df['Surface of the plot (m²)'] = df['Surface of the plot (m²)'].str.split(' ').str[0]\n",
    "# df['Surface of the plot (m²)'] = pd.to_numeric(df['Surface of the plot (m²)'])\n",
    "df['Cadastral income (€)'] = df['Cadastral income (€)'].str.split(' ').str[-2]\n",
    "# df['Cadastral income (€)'] = pd.to_numeric(df['Cadastral income (€)'])\n",
    "df['Primary energy consumption (kWh/m²)'] = df['Primary energy consumption (kWh/m²)'].str.split(' ').str[0]\n",
    "# df['Primary energy consumption (kWh/m²)'] = pd.to_numeric(df['Primary energy consumption (kWh/m²)'])\n",
    "df['CO₂ emission (kg CO₂/m²)'] = df['CO₂ emission (kg CO₂/m²)'].str.split(' ').str[0]\n",
    "# df['CO₂ emission (kg CO₂/m²)'] = pd.to_numeric(df['CO₂ emission (kg CO₂/m²)'])"
   ]
  },
  {
   "cell_type": "code",
   "execution_count": 422,
   "metadata": {},
   "outputs": [],
   "source": [
    "filter_G = df[\"Garden surface (m²)\"].isnull()\n",
    "df.loc[~filter_G,'Garden'] = 'Yes'\n",
    "df.loc[df['Garden'] == 'Yes', 'Garden'] = 1\n",
    "df.loc[df[\"Garden\"].isnull(), 'Garden'] = 0\n",
    "df.loc[df[\"Garden surface (m²)\"].isnull(), 'Garden surface (m²)'] = 0"
   ]
  },
  {
   "cell_type": "code",
   "execution_count": 423,
   "metadata": {},
   "outputs": [],
   "source": [
    "filter_G = df[\"Terrace surface (m²)\"].isnull()\n",
    "df.loc[~filter_G,'Terrace'] = 'Yes'\n",
    "df.loc[df['Terrace'] == 'Yes', 'Terrace'] = 1\n",
    "df.loc[df[\"Terrace\"].isnull(), 'Terrace'] = 0\n",
    "df.loc[df[\"Terrace surface (m²)\"].isnull(), 'Terrace surface (m²)'] = 0"
   ]
  },
  {
   "cell_type": "code",
   "execution_count": 424,
   "metadata": {},
   "outputs": [],
   "source": [
    "df['Primary energy consumption (kWh/m²)']=df['Primary energy consumption (kWh/m²)'].replace('Not',np.nan)\n",
    "df['CO₂ emission (kg CO₂/m²)']=df['CO₂ emission (kg CO₂/m²)'].replace('Not',np.nan)\n",
    "df['Energy class']=df['Energy class'].replace('Not',np.nan)"
   ]
  },
  {
   "cell_type": "code",
   "execution_count": 425,
   "metadata": {},
   "outputs": [],
   "source": [
    "df = df.astype({\"Living area (m²)\":\"float\", \"Terrace\":\"float\", \"Garden\":\"float\",\n",
    "                \"Terrace surface (m²)\":\"float\",\n",
    "                \"Garden surface (m²)\":\"float\",\"Surface of the plot (m²)\":\"float\",\n",
    "                \"Primary energy consumption (kWh/m²)\":\"float\", \"Cadastral income (€)\":\"float\",\n",
    "                \"CO₂ emission (kg CO₂/m²)\":\"float\"})"
   ]
  },
  {
   "cell_type": "code",
   "execution_count": 426,
   "metadata": {},
   "outputs": [
    {
     "data": {
      "text/plain": [
       "Property ID                              int64\n",
       "Neighbourhood or locality               object\n",
       "Type of building                        object\n",
       "Construction year                      float64\n",
       "Price (€)                                int64\n",
       "Bedrooms                               float64\n",
       "Living area (m²)                       float64\n",
       "Kitchen type                            object\n",
       "Furnished                                int64\n",
       "How many fireplaces?                   float64\n",
       "Terrace                                float64\n",
       "Terrace surface (m²)                   float64\n",
       "Garden                                 float64\n",
       "Garden surface (m²)                    float64\n",
       "Surface of the plot (m²)               float64\n",
       "Number of frontages                    float64\n",
       "Swimming pool                            int64\n",
       "Elevator                                 int64\n",
       "Basement                                 int64\n",
       "Building condition                      object\n",
       "Cadastral income (€)                   float64\n",
       "Primary energy consumption (kWh/m²)    float64\n",
       "CO₂ emission (kg CO₂/m²)               float64\n",
       "Energy class                            object\n",
       "Heating type                            object\n",
       "dtype: object"
      ]
     },
     "execution_count": 426,
     "metadata": {},
     "output_type": "execute_result"
    }
   ],
   "source": [
    "df.dtypes"
   ]
  },
  {
   "cell_type": "code",
   "execution_count": 427,
   "metadata": {},
   "outputs": [
    {
     "data": {
      "text/plain": [
       "Property ID                               0\n",
       "Neighbourhood or locality              9263\n",
       "Type of building                       9499\n",
       "Construction year                      3766\n",
       "Price (€)                                 0\n",
       "Bedrooms                                457\n",
       "Living area (m²)                        783\n",
       "Kitchen type                           3380\n",
       "Furnished                                 0\n",
       "How many fireplaces?                      0\n",
       "Terrace                                   0\n",
       "Terrace surface (m²)                      0\n",
       "Garden                                    0\n",
       "Garden surface (m²)                       0\n",
       "Surface of the plot (m²)               4305\n",
       "Number of frontages                    2573\n",
       "Swimming pool                             0\n",
       "Elevator                                  0\n",
       "Basement                                  0\n",
       "Building condition                     2397\n",
       "Cadastral income (€)                   4909\n",
       "Primary energy consumption (kWh/m²)    1931\n",
       "CO₂ emission (kg CO₂/m²)               8030\n",
       "Energy class                              0\n",
       "Heating type                           3006\n",
       "dtype: int64"
      ]
     },
     "execution_count": 427,
     "metadata": {},
     "output_type": "execute_result"
    }
   ],
   "source": [
    "df.isnull().sum()"
   ]
  }
 ],
 "metadata": {
  "kernelspec": {
   "display_name": "venv",
   "language": "python",
   "name": "python3"
  },
  "language_info": {
   "codemirror_mode": {
    "name": "ipython",
    "version": 3
   },
   "file_extension": ".py",
   "mimetype": "text/x-python",
   "name": "python",
   "nbconvert_exporter": "python",
   "pygments_lexer": "ipython3",
   "version": "3.11.3"
  },
  "orig_nbformat": 4
 },
 "nbformat": 4,
 "nbformat_minor": 2
}
