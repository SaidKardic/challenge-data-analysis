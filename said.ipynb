{
 "cells": [
  {
   "cell_type": "code",
   "execution_count": 595,
   "metadata": {},
   "outputs": [],
   "source": [
    "import pandas as pd\n",
    "import numpy as np\n",
    "import re"
   ]
  },
  {
   "cell_type": "code",
   "execution_count": 596,
   "metadata": {},
   "outputs": [
    {
     "name": "stderr",
     "output_type": "stream",
     "text": [
      "/var/folders/9g/mm9pdxg52dn6rg0rtfk14syc0000gn/T/ipykernel_22943/625188700.py:1: DtypeWarning: Columns (114,118,125) have mixed types. Specify dtype option on import or set low_memory=False.\n",
      "  df=pd.read_csv('data.csv')\n"
     ]
    }
   ],
   "source": [
    "df=pd.read_csv('data.csv')"
   ]
  },
  {
   "cell_type": "code",
   "execution_count": 597,
   "metadata": {},
   "outputs": [
    {
     "data": {
      "text/plain": [
       "Index(['Unnamed: 0', 'Available as of', 'Available date', 'Construction year',\n",
       "       'Building condition', 'Street frontage width', 'Number of frontages',\n",
       "       'Covered parking spaces', 'Outdoor parking spaces', 'Surroundings type',\n",
       "       ...\n",
       "       'Value of the property', 'Monthly annuity', 'Age of annuitants',\n",
       "       'Maximum duration of annuity', 'Venue of the sale', 'Single session',\n",
       "       'Terms of visit', 'Starting price', '0', 'Date of the sale'],\n",
       "      dtype='object', length=126)"
      ]
     },
     "execution_count": 597,
     "metadata": {},
     "output_type": "execute_result"
    }
   ],
   "source": [
    "df.columns"
   ]
  },
  {
   "cell_type": "code",
   "execution_count": 598,
   "metadata": {},
   "outputs": [],
   "source": [
    "filtered_columns=[\"Unnamed: 0\",\"Neighbourhood or locality\",\"Type of building\",'Construction year',\n",
    "                  \"Price\",\"Bedrooms\",\"Living area\",\"Kitchen type\",\n",
    "    \"Furnished\",\"How many fireplaces?\",\"Terrace\",\"Terrace surface\",\n",
    "    \"Garden\",\"Garden surface\",\"Surface of the plot\",\"Number of frontages\",\n",
    "    \"Swimming pool\",'Elevator', 'Basement', \"Building condition\", \n",
    "    'Cadastral income',\"Primary energy consumption\",\"CO₂ emission\", 'Energy class', 'Heating type']\n",
    "df = df[filtered_columns]"
   ]
  },
  {
   "cell_type": "code",
   "execution_count": 599,
   "metadata": {},
   "outputs": [],
   "source": [
    "df=df.drop_duplicates()"
   ]
  },
  {
   "cell_type": "code",
   "execution_count": 600,
   "metadata": {},
   "outputs": [],
   "source": [
    "df=df.rename(columns = {'Unnamed: 0':'Property ID'})"
   ]
  },
  {
   "cell_type": "code",
   "execution_count": 601,
   "metadata": {},
   "outputs": [],
   "source": [
    "df.to_csv(\"data_26_column.csv\", index=False)"
   ]
  },
  {
   "cell_type": "code",
   "execution_count": 602,
   "metadata": {},
   "outputs": [],
   "source": [
    "df=pd.read_csv('data_26_column.csv')"
   ]
  },
  {
   "cell_type": "code",
   "execution_count": 603,
   "metadata": {},
   "outputs": [],
   "source": [
    "df=df.rename(columns = {'Price':'Price (€)', 'Living area':'Living area (m²)', 'Terrace surface':'Terrace surface (m²)', \n",
    "                        'Garden surface':'Garden surface (m²)', 'Surface of the plot': 'Surface of the plot (m²)', 'Cadastral income':'Cadastral income (€)',\n",
    "                        'Primary energy consumption':'Primary energy consumption (kWh/m²)', 'CO₂ emission':'CO₂ emission (kg CO₂/m²)',\n",
    "                          })"
   ]
  },
  {
   "cell_type": "code",
   "execution_count": 604,
   "metadata": {},
   "outputs": [],
   "source": [
    "df=df.drop_duplicates()"
   ]
  },
  {
   "cell_type": "code",
   "execution_count": 605,
   "metadata": {},
   "outputs": [],
   "source": [
    "df['How many fireplaces?']=df['How many fireplaces?'].replace(np.nan,0,regex=True)\n",
    "df['How many fireplaces?']=df['How many fireplaces?'].replace('Yes',1,regex=True)\n",
    "df['How many fireplaces?']=df['How many fireplaces?'].replace('No',0,regex=True)\n",
    "df['Swimming pool']=df['Swimming pool'].replace(np.nan,0,regex=True)\n",
    "df['Swimming pool']=df['Swimming pool'].replace('Yes',1,regex=True)\n",
    "df['Swimming pool']=df['Swimming pool'].replace('No',0,regex=True)\n",
    "df['Elevator']=df['Elevator'].replace(np.nan,0,regex=True)\n",
    "df['Elevator']=df['Elevator'].replace('Yes',1,regex=True)\n",
    "df['Elevator']=df['Elevator'].replace('No',0,regex=True)\n",
    "df['Basement']=df['Basement'].replace(np.nan,0,regex=True)\n",
    "df['Basement']=df['Basement'].replace('Yes',1,regex=True)\n",
    "df['Basement']=df['Basement'].replace('No',0,regex=True)\n",
    "df['Furnished']=df['Furnished'].replace(np.nan,0,regex=True)\n",
    "df['Furnished']=df['Furnished'].replace('Yes',1,regex=True)\n",
    "df['Furnished']=df['Furnished'].replace('No',0,regex=True)\n"
   ]
  },
  {
   "cell_type": "code",
   "execution_count": 606,
   "metadata": {},
   "outputs": [],
   "source": [
    "df=df.dropna(subset=['Price (€)'])\n"
   ]
  },
  {
   "cell_type": "code",
   "execution_count": 607,
   "metadata": {},
   "outputs": [],
   "source": [
    "df['Price (€)'] = df['Price (€)'].str.split(' ').str[-2]\n",
    "df['Price (€)'] = pd.to_numeric(df['Price (€)'])\n",
    "df['Living area (m²)'] = df['Living area (m²)'].str.split(' ').str[0]\n",
    "df['Garden surface (m²)'] = df['Garden surface (m²)'].str.split(' ').str[0]\n",
    "df['Terrace surface (m²)'] = df['Terrace surface (m²)'].str.split(' ').str[0]\n",
    "df['Surface of the plot (m²)'] = df['Surface of the plot (m²)'].str.split(' ').str[0]\n",
    "df['Cadastral income (€)'] = df['Cadastral income (€)'].str.split(' ').str[-2]\n",
    "df['Primary energy consumption (kWh/m²)'] = df['Primary energy consumption (kWh/m²)'].str.split(' ').str[0]\n",
    "df['CO₂ emission (kg CO₂/m²)'] = df['CO₂ emission (kg CO₂/m²)'].str.split(' ').str[0]"
   ]
  },
  {
   "cell_type": "code",
   "execution_count": 608,
   "metadata": {},
   "outputs": [],
   "source": [
    "filter_G = df[\"Garden surface (m²)\"].isnull()\n",
    "df.loc[~filter_G,'Garden'] = 'Yes'\n",
    "df.loc[df['Garden'] == 'Yes', 'Garden'] = 1\n",
    "df.loc[df[\"Garden\"].isnull(), 'Garden'] = 0\n",
    "df.loc[df[\"Garden surface (m²)\"].isnull(), 'Garden surface (m²)'] = 0"
   ]
  },
  {
   "cell_type": "code",
   "execution_count": 609,
   "metadata": {},
   "outputs": [],
   "source": [
    "filter_G = df[\"Terrace surface (m²)\"].isnull()\n",
    "df.loc[~filter_G,'Terrace'] = 'Yes'\n",
    "df.loc[df['Terrace'] == 'Yes', 'Terrace'] = 1\n",
    "df.loc[df[\"Terrace\"].isnull(), 'Terrace'] = 0\n",
    "df.loc[df[\"Terrace surface (m²)\"].isnull(), 'Terrace surface (m²)'] = 0"
   ]
  },
  {
   "cell_type": "code",
   "execution_count": 610,
   "metadata": {},
   "outputs": [],
   "source": [
    "df['Primary energy consumption (kWh/m²)']=df['Primary energy consumption (kWh/m²)'].replace('Not',np.nan)\n",
    "df['CO₂ emission (kg CO₂/m²)']=df['CO₂ emission (kg CO₂/m²)'].replace('Not',np.nan)\n",
    "df['Energy class']=df['Energy class'].replace('Not',np.nan)"
   ]
  },
  {
   "cell_type": "code",
   "execution_count": 611,
   "metadata": {},
   "outputs": [],
   "source": [
    "df = df.astype({\"Living area (m²)\":\"float\", \"Terrace\":\"float\", \"Garden\":\"float\",\n",
    "                \"Terrace surface (m²)\":\"float\",\n",
    "                \"Garden surface (m²)\":\"float\",\"Surface of the plot (m²)\":\"float\",\n",
    "                \"Primary energy consumption (kWh/m²)\":\"float\", \"Cadastral income (€)\":\"float\",\n",
    "                \"CO₂ emission (kg CO₂/m²)\":\"float\"})"
   ]
  },
  {
   "cell_type": "code",
   "execution_count": 612,
   "metadata": {},
   "outputs": [],
   "source": [
    "kitchen_type_scale={'USA hyper equipped':8, 'USA installed':7, 'USA semi equipped':6, 'USA uninstalled':5,\n",
    " 'Hyper equipped':4, 'Installed':3, 'Semi equipped':2, 'Not installed':1, np.nan:0}\n",
    "\n",
    "df['Kitchen type scale'] = df['Kitchen type'].map(kitchen_type_scale)"
   ]
  },
  {
   "cell_type": "code",
   "execution_count": 613,
   "metadata": {},
   "outputs": [],
   "source": [
    "building_condition_scale={'As new':6,'Just renovated':5, 'Good':4, 'To renovate':3,\n",
    " 'To restore':2, 'To be done up':1, np.nan:0}\n",
    "\n",
    "df['Building condition scale'] = df['Building condition'].map(building_condition_scale)"
   ]
  },
  {
   "cell_type": "code",
   "execution_count": 614,
   "metadata": {},
   "outputs": [],
   "source": [
    "df = df.applymap(lambda x: x.strip() if isinstance(x, str) else x)"
   ]
  },
  {
   "cell_type": "code",
   "execution_count": 615,
   "metadata": {},
   "outputs": [],
   "source": [
    "df.to_csv(\"cleaned_data_v1.csv\", index=False)"
   ]
  },
  {
   "cell_type": "code",
   "execution_count": 616,
   "metadata": {},
   "outputs": [],
   "source": [
    "df=pd.read_csv('cleaned_data_v1.csv')"
   ]
  },
  {
   "cell_type": "code",
   "execution_count": 618,
   "metadata": {},
   "outputs": [],
   "source": [
    "df['Energy class']=df['Energy class'].replace('Not specified',np.nan)"
   ]
  },
  {
   "cell_type": "code",
   "execution_count": null,
   "metadata": {},
   "outputs": [],
   "source": [
    "df.to_csv(\"cleaned_data_v1.csv\", index=False)"
   ]
  }
 ],
 "metadata": {
  "kernelspec": {
   "display_name": "venv",
   "language": "python",
   "name": "python3"
  },
  "language_info": {
   "codemirror_mode": {
    "name": "ipython",
    "version": 3
   },
   "file_extension": ".py",
   "mimetype": "text/x-python",
   "name": "python",
   "nbconvert_exporter": "python",
   "pygments_lexer": "ipython3",
   "version": "3.11.3"
  },
  "orig_nbformat": 4
 },
 "nbformat": 4,
 "nbformat_minor": 2
}
